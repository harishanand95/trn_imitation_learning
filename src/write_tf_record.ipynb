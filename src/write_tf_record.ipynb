{
  "nbformat": 4,
  "nbformat_minor": 0,
  "metadata": {
    "colab": {
      "name": "write_tf_record.ipynb",
      "provenance": []
    },
    "kernelspec": {
      "name": "python3",
      "display_name": "Python 3"
    }
  },
  "cells": [
    {
      "cell_type": "code",
      "metadata": {
        "id": "Hn9hCjWxRTJV",
        "colab_type": "code",
        "colab": {}
      },
      "source": [
        "Write TFRecord (modified on martin gorner TPU slides)"
      ],
      "execution_count": 0,
      "outputs": []
    },
    {
      "cell_type": "code",
      "metadata": {
        "id": "NfjR-8-8v5sE",
        "colab_type": "code",
        "outputId": "08049de5-1e45-4a10-bd7e-cc7d287d1d48",
        "colab": {
          "base_uri": "https://localhost:8080/",
          "height": 34
        }
      },
      "source": [
        "import os, sys, math\n",
        "import numpy as np\n",
        "from matplotlib import pyplot as plt\n",
        "if 'google.colab' in sys.modules: # Colab-only Tensorflow version selector\n",
        "  %tensorflow_version 2.x\n",
        "import tensorflow as tf\n",
        "print(\"Tensorflow version \" + tf.__version__)\n",
        "AUTO = tf.data.experimental.AUTOTUNE # used in tf.data.Dataset API"
      ],
      "execution_count": 0,
      "outputs": [
        {
          "output_type": "stream",
          "text": [
            "Tensorflow version 2.2.0-rc3\n"
          ],
          "name": "stdout"
        }
      ]
    },
    {
      "cell_type": "markdown",
      "metadata": {
        "id": "7Qg8yeG2z24M",
        "colab_type": "text"
      },
      "source": [
        "Configuration"
      ]
    },
    {
      "cell_type": "code",
      "metadata": {
        "id": "BtYcEZjPwac6",
        "colab_type": "code",
        "colab": {}
      },
      "source": [
        "GCS_PATTERN = 'gs://robot_learning_12/depth/images/*/*.jpg'\n",
        "GCS_OUTPUT = 'gs://robot_learning_12/depth/record/drone'  # prefix for output file names\n",
        "SHARDS = 16\n",
        "TARGET_SIZE = [512, 512]\n",
        "CLASSES = [b'up', b'down', b'stay'] # do not change, maps to the labels in the data (folder names)\n",
        "CHANNELS = 1"
      ],
      "execution_count": 0,
      "outputs": []
    },
    {
      "cell_type": "code",
      "metadata": {
        "colab_type": "code",
        "id": "5gAaIXGJmRuU",
        "colab": {}
      },
      "source": [
        "if 'google.colab' in sys.modules:\n",
        "  from google.colab import auth\n",
        "  auth.authenticate_user()"
      ],
      "execution_count": 0,
      "outputs": []
    },
    {
      "cell_type": "markdown",
      "metadata": {
        "id": "SkR3lg6U0K1k",
        "colab_type": "text"
      },
      "source": [
        "Read images and labels"
      ]
    },
    {
      "cell_type": "code",
      "metadata": {
        "id": "II_xp6jd0N7g",
        "colab_type": "code",
        "outputId": "ab3c69ae-3bc9-4400-9bf9-bc977a910f77",
        "colab": {
          "base_uri": "https://localhost:8080/",
          "height": 34
        }
      },
      "source": [
        "nb_images = len(tf.io.gfile.glob(GCS_PATTERN))\n",
        "shard_size = math.ceil(1.0 * nb_images / SHARDS)\n",
        "print(\"Pattern matches {} images which will be rewritten as {} .tfrec files containing {} images each.\".format(nb_images, SHARDS, shard_size))\n",
        "\n",
        "def decode_jpeg_and_label(filename):\n",
        "  bits = tf.io.read_file(filename)\n",
        "  image = tf.image.decode_jpeg(bits)\n",
        "  # parse flower name from containing directory\n",
        "  label = tf.strings.split(tf.expand_dims(filename, axis=-1), sep='/')\n",
        "  label = label.values[-2]\n",
        "  return image, label\n",
        "\n",
        "filenames = tf.data.Dataset.list_files(GCS_PATTERN, seed=35155) # This also shuffles the images\n",
        "dataset1 = filenames.map(decode_jpeg_and_label, num_parallel_calls=AUTO)"
      ],
      "execution_count": 0,
      "outputs": [
        {
          "output_type": "stream",
          "text": [
            "Pattern matches 27427 images which will be rewritten as 16 .tfrec files containing 1715 images each.\n"
          ],
          "name": "stdout"
        }
      ]
    },
    {
      "cell_type": "markdown",
      "metadata": {
        "id": "YdBFUTqK2YWC",
        "colab_type": "text"
      },
      "source": [
        "Visualization"
      ]
    },
    {
      "cell_type": "code",
      "metadata": {
        "id": "X63BEJJ62RM-",
        "colab_type": "code",
        "colab": {}
      },
      "source": [
        "np.set_printoptions(threshold=15, linewidth=80)\n",
        "\n",
        "def batch_to_numpy_images_and_labels(data):\n",
        "    images, labels = data\n",
        "    numpy_images = images.numpy()\n",
        "    numpy_labels = labels.numpy()\n",
        "    if numpy_labels.dtype == object: # binary string in this case, these are image ID strings\n",
        "        numpy_labels = [None for _ in enumerate(numpy_images)]\n",
        "    # If no labels, only image IDs, return None for labels (this is the case for test data)\n",
        "    return numpy_images, numpy_labels\n",
        "\n",
        "def title_from_label_and_target(label, correct_label):\n",
        "    if correct_label is None:\n",
        "        return CLASSES[label], True\n",
        "    correct = (label == correct_label)\n",
        "    return \"{} [{}{}{}]\".format(CLASSES[label], 'OK' if correct else 'NO', u\"\\u2192\" if not correct else '',\n",
        "                                CLASSES[correct_label] if not correct else ''), correct\n",
        "\n",
        "def display_one_flower(image, title, subplot, red=False, titlesize=16):\n",
        "    plt.subplot(*subplot)\n",
        "    plt.axis('off')\n",
        "    plt.imshow(image)\n",
        "    if len(title) > 0:\n",
        "        plt.title(title, fontsize=int(titlesize) if not red else int(titlesize/1.2), color='red' if red else 'black', fontdict={'verticalalignment':'center'}, pad=int(titlesize/1.5))\n",
        "    return (subplot[0], subplot[1], subplot[2]+1)\n",
        "    \n",
        "def display_batch_of_images(databatch, predictions=None):\n",
        "    \"\"\"This will work with:\n",
        "    display_batch_of_images(images)\n",
        "    display_batch_of_images(images, predictions)\n",
        "    display_batch_of_images((images, labels))\n",
        "    display_batch_of_images((images, labels), predictions)\n",
        "    \"\"\"\n",
        "    # data\n",
        "    images, labels = batch_to_numpy_images_and_labels(databatch)\n",
        "    if labels is None:\n",
        "        labels = [None for _ in enumerate(images)]\n",
        "        \n",
        "    # auto-squaring: this will drop data that does not fit into square or square-ish rectangle\n",
        "    rows = int(math.sqrt(len(images)))\n",
        "    cols = len(images)//rows\n",
        "        \n",
        "    # size and spacing\n",
        "    FIGSIZE = 13.0\n",
        "    SPACING = 0.1\n",
        "    subplot=(rows,cols,1)\n",
        "    if rows < cols:\n",
        "        plt.figure(figsize=(FIGSIZE,FIGSIZE/cols*rows))\n",
        "    else:\n",
        "        plt.figure(figsize=(FIGSIZE/rows*cols,FIGSIZE))\n",
        "    \n",
        "    # display\n",
        "    for i, (image, label) in enumerate(zip(images[:rows*cols], labels[:rows*cols])):\n",
        "        title = '' if label is None else CLASSES[label]\n",
        "        correct = True\n",
        "        if predictions is not None:\n",
        "            title, correct = title_from_label_and_target(predictions[i], label)\n",
        "        dynamic_titlesize = FIGSIZE*SPACING/max(rows,cols)*40+3 # magic formula tested to work from 1x1 to 10x10 images\n",
        "        subplot = display_one_flower(image, title, subplot, not correct, titlesize=dynamic_titlesize)\n",
        "    \n",
        "    #layout\n",
        "    plt.tight_layout()\n",
        "    if label is None and predictions is None:\n",
        "        plt.subplots_adjust(wspace=0, hspace=0)\n",
        "    else:\n",
        "        plt.subplots_adjust(wspace=SPACING, hspace=SPACING)\n",
        "    plt.show()\n",
        "\n",
        "def display_confusion_matrix(cmat, score, precision, recall):\n",
        "    plt.figure(figsize=(15,15))\n",
        "    ax = plt.gca()\n",
        "    ax.matshow(cmat, cmap='Reds')\n",
        "    ax.set_xticks(range(len(CLASSES)))\n",
        "    ax.set_xticklabels(CLASSES, fontdict={'fontsize': 7})\n",
        "    plt.setp(ax.get_xticklabels(), rotation=45, ha=\"left\", rotation_mode=\"anchor\")\n",
        "    ax.set_yticks(range(len(CLASSES)))\n",
        "    ax.set_yticklabels(CLASSES, fontdict={'fontsize': 7})\n",
        "    plt.setp(ax.get_yticklabels(), rotation=45, ha=\"right\", rotation_mode=\"anchor\")\n",
        "    titlestring = \"\"\n",
        "    if score is not None:\n",
        "        titlestring += 'f1 = {:.3f} '.format(score)\n",
        "    if precision is not None:\n",
        "        titlestring += '\\nprecision = {:.3f} '.format(precision)\n",
        "    if recall is not None:\n",
        "        titlestring += '\\nrecall = {:.3f} '.format(recall)\n",
        "    if len(titlestring) > 0:\n",
        "        ax.text(101, 1, titlestring, fontdict={'fontsize': 18, 'horizontalalignment':'right', 'verticalalignment':'top', 'color':'#804040'})\n",
        "    plt.show()\n",
        "    \n",
        "def display_training_curves(training, validation, title, subplot):\n",
        "    if subplot%10==1: # set up the subplots on the first call\n",
        "        plt.subplots(figsize=(10,10), facecolor='#F0F0F0')\n",
        "        plt.tight_layout()\n",
        "    ax = plt.subplot(subplot)\n",
        "    ax.set_facecolor('#F8F8F8')\n",
        "    ax.plot(training)\n",
        "    ax.plot(validation)\n",
        "    ax.set_title('model '+ title)\n",
        "    ax.set_ylabel(title)\n",
        "    #ax.set_ylim(0.28,1.05)\n",
        "    ax.set_xlabel('epoch')\n",
        "    ax.legend(['train', 'valid.'])"
      ],
      "execution_count": 0,
      "outputs": []
    },
    {
      "cell_type": "markdown",
      "metadata": {
        "id": "aiAZVFd40hw0",
        "colab_type": "text"
      },
      "source": [
        "Image resize to 512 512"
      ]
    },
    {
      "cell_type": "code",
      "metadata": {
        "id": "4K78e6F20jlS",
        "colab_type": "code",
        "colab": {}
      },
      "source": [
        "def resize_and_crop_image(image, label):\n",
        "  # Resize and crop using \"fill\" algorithm:\n",
        "  # always make sure the resulting image\n",
        "  # is cut out from the source image so that\n",
        "  # it fills the TARGET_SIZE entirely with no\n",
        "  # black bars and a preserved aspect ratio.\n",
        "  w = tf.shape(image)[0]\n",
        "  h = tf.shape(image)[1]\n",
        "  tw = TARGET_SIZE[1]\n",
        "  th = TARGET_SIZE[0]\n",
        "  resize_crit = (w * th) / (h * tw)\n",
        "  image = tf.cond(resize_crit < 1,\n",
        "                  lambda: tf.image.resize(image, [w*tw/w, h*tw/w]), # if true\n",
        "                  lambda: tf.image.resize(image, [w*th/h, h*th/h])  # if false\n",
        "                 )\n",
        "  nw = tf.shape(image)[0]\n",
        "  nh = tf.shape(image)[1]\n",
        "  image = tf.image.crop_to_bounding_box(image, (nw - tw) // 2, (nh - th) // 2, tw, th)\n",
        "  return image, label\n",
        "dataset2 = dataset1.map(resize_and_crop_image, num_parallel_calls=AUTO)"
      ],
      "execution_count": 0,
      "outputs": []
    },
    {
      "cell_type": "code",
      "metadata": {
        "id": "MoFQYWkq2xaj",
        "colab_type": "code",
        "colab": {}
      },
      "source": [
        "def decode_image(image_data):\n",
        "    # image = tf.image.decode_jpeg(image_data, channels=3)  # RGB \n",
        "    image = tf.image.decode_jpeg(image_data, channels=CHANNELS) \n",
        "    image = tf.cast(image, tf.float32) / 255.0  # convert image to floats in [0, 1] range\n",
        "    # image = tf.reshape(image, [*IMAGE_SIZE, 3]) # explicit size needed for TPU RGB\n",
        "    image = tf.reshape(image, [*IMAGE_SIZE, CHANNELS])\n",
        "    return image\n",
        "\n",
        "def read_labeled_tfrecord(example):\n",
        "    LABELED_TFREC_FORMAT = {\n",
        "        \"image\": tf.io.FixedLenFeature([], tf.string), # tf.string means bytestring\n",
        "        \"class\": tf.io.FixedLenFeature([], tf.int64),  # shape [] means single element\n",
        "    }\n",
        "    example = tf.io.parse_single_example(example, LABELED_TFREC_FORMAT)\n",
        "    image = decode_image(example['image'])\n",
        "    label = tf.cast(example['class'], tf.int32)\n",
        "    return image, label # returns a dataset of (image, label) pairs\n",
        "\n",
        "def read_unlabeled_tfrecord(example):\n",
        "    UNLABELED_TFREC_FORMAT = {\n",
        "        \"image\": tf.io.FixedLenFeature([], tf.string), # tf.string means bytestring\n",
        "        \"id\": tf.io.FixedLenFeature([], tf.string),  # shape [] means single element\n",
        "        # class is missing, this competitions's challenge is to predict flower classes for the test dataset\n",
        "    }\n",
        "    example = tf.io.parse_single_example(example, UNLABELED_TFREC_FORMAT)\n",
        "    image = decode_image(example['image'])\n",
        "    idnum = example['id']\n",
        "    return image, idnum # returns a dataset of image(s)\n",
        "\n",
        "def load_dataset(filenames, labeled=True, ordered=False):\n",
        "    # Read from TFRecords. For optimal performance, reading from multiple files at once and\n",
        "    # disregarding data order. Order does not matter since we will be shuffling the data anyway.\n",
        "\n",
        "    ignore_order = tf.data.Options()\n",
        "    if not ordered:\n",
        "        ignore_order.experimental_deterministic = False # disable order, increase speed\n",
        "\n",
        "    dataset = tf.data.TFRecordDataset(filenames, num_parallel_reads=AUTO) # automatically interleaves reads from multiple files\n",
        "    dataset = dataset.with_options(ignore_order) # uses data as soon as it streams in, rather than in its original order\n",
        "    dataset = dataset.map(read_labeled_tfrecord if labeled else read_unlabeled_tfrecord, num_parallel_calls=AUTO)\n",
        "    # returns a dataset of (image, label) pairs if labeled=True or (image, id) pairs if labeled=False\n",
        "    return dataset\n",
        "\n",
        "def data_augment(image, label):\n",
        "    # data augmentation. Thanks to the dataset.prefetch(AUTO) statement in the next function (below),\n",
        "    # this happens essentially for free on TPU. Data pipeline code is executed on the \"CPU\" part\n",
        "    # of the TPU while the TPU itself is computing gradients.\n",
        "    image = tf.image.random_flip_left_right(image)\n",
        "    #image = tf.image.random_saturation(image, 0, 2)\n",
        "    return image, label   \n",
        "\n",
        "def get_training_dataset():\n",
        "    dataset = load_dataset(TRAINING_FILENAMES, labeled=True)\n",
        "    dataset = dataset.map(data_augment, num_parallel_calls=AUTO)\n",
        "    dataset = dataset.repeat() # the training dataset must repeat for several epochs\n",
        "    dataset = dataset.shuffle(2048)\n",
        "    dataset = dataset.batch(BATCH_SIZE)\n",
        "    dataset = dataset.prefetch(AUTO) # prefetch next batch while training (autotune prefetch buffer size)\n",
        "    return dataset\n",
        "\n",
        "def get_validation_dataset(ordered=False):\n",
        "    dataset = load_dataset(VALIDATION_FILENAMES, labeled=True, ordered=ordered)\n",
        "    dataset = dataset.batch(BATCH_SIZE)\n",
        "    dataset = dataset.cache()\n",
        "    dataset = dataset.prefetch(AUTO) # prefetch next batch while training (autotune prefetch buffer size)\n",
        "    return dataset\n",
        "\n",
        "def get_test_dataset(ordered=False):\n",
        "    dataset = load_dataset(TEST_FILENAMES, labeled=False, ordered=ordered)\n",
        "    dataset = dataset.batch(BATCH_SIZE)\n",
        "    dataset = dataset.prefetch(AUTO) # prefetch next batch while training (autotune prefetch buffer size)\n",
        "    return dataset\n",
        "\n",
        "def count_data_items(filenames):\n",
        "    # the number of data items is written in the name of the .tfrec files, i.e. flowers00-230.tfrec = 230 data items\n",
        "    n = [int(re.compile(r\"-([0-9]*)\\.\").search(filename).group(1)) for filename in filenames]\n",
        "    return np.sum(n)\n",
        "\n"
      ],
      "execution_count": 0,
      "outputs": []
    },
    {
      "cell_type": "markdown",
      "metadata": {
        "id": "LAEeRW8Z4JUt",
        "colab_type": "text"
      },
      "source": [
        "Take 8 images and check\n"
      ]
    },
    {
      "cell_type": "code",
      "metadata": {
        "id": "2IreOwuu4MrV",
        "colab_type": "code",
        "outputId": "1c20ded5-48b8-4a7f-d65f-9e4bc0016bee",
        "colab": {
          "base_uri": "https://localhost:8080/",
          "height": 538
        }
      },
      "source": [
        "display_dataset = dataset2.batch(8)\n",
        "for image, label in display_dataset.take(30):\n",
        "  print(\"Image batch shape {}, {})\".format(image.numpy().shape, [lbl.decode('utf8') for lbl in label.numpy()]))"
      ],
      "execution_count": 0,
      "outputs": [
        {
          "output_type": "stream",
          "text": [
            "Image batch shape (8, 512, 512, 1), ['up', 'down', 'stay', 'stay', 'stay', 'up', 'down', 'stay'])\n",
            "Image batch shape (8, 512, 512, 1), ['stay', 'down', 'up', 'stay', 'stay', 'stay', 'stay', 'stay'])\n",
            "Image batch shape (8, 512, 512, 1), ['stay', 'stay', 'stay', 'stay', 'stay', 'stay', 'stay', 'stay'])\n",
            "Image batch shape (8, 512, 512, 1), ['stay', 'down', 'stay', 'down', 'stay', 'down', 'stay', 'stay'])\n",
            "Image batch shape (8, 512, 512, 1), ['up', 'stay', 'up', 'down', 'stay', 'stay', 'down', 'stay'])\n",
            "Image batch shape (8, 512, 512, 1), ['stay', 'up', 'stay', 'stay', 'stay', 'stay', 'stay', 'stay'])\n",
            "Image batch shape (8, 512, 512, 1), ['stay', 'stay', 'stay', 'up', 'up', 'stay', 'down', 'stay'])\n",
            "Image batch shape (8, 512, 512, 1), ['up', 'up', 'stay', 'up', 'stay', 'down', 'down', 'down'])\n",
            "Image batch shape (8, 512, 512, 1), ['down', 'stay', 'stay', 'up', 'stay', 'stay', 'up', 'stay'])\n",
            "Image batch shape (8, 512, 512, 1), ['down', 'down', 'down', 'stay', 'stay', 'stay', 'up', 'stay'])\n",
            "Image batch shape (8, 512, 512, 1), ['up', 'stay', 'down', 'up', 'up', 'stay', 'stay', 'down'])\n",
            "Image batch shape (8, 512, 512, 1), ['stay', 'stay', 'stay', 'stay', 'stay', 'down', 'stay', 'up'])\n",
            "Image batch shape (8, 512, 512, 1), ['down', 'stay', 'stay', 'up', 'up', 'up', 'stay', 'stay'])\n",
            "Image batch shape (8, 512, 512, 1), ['stay', 'up', 'stay', 'down', 'stay', 'stay', 'stay', 'up'])\n",
            "Image batch shape (8, 512, 512, 1), ['stay', 'up', 'stay', 'stay', 'up', 'down', 'stay', 'down'])\n",
            "Image batch shape (8, 512, 512, 1), ['stay', 'down', 'stay', 'stay', 'stay', 'stay', 'up', 'down'])\n",
            "Image batch shape (8, 512, 512, 1), ['stay', 'stay', 'down', 'stay', 'stay', 'stay', 'stay', 'stay'])\n",
            "Image batch shape (8, 512, 512, 1), ['stay', 'down', 'up', 'down', 'stay', 'up', 'stay', 'up'])\n",
            "Image batch shape (8, 512, 512, 1), ['down', 'stay', 'stay', 'up', 'stay', 'stay', 'stay', 'up'])\n",
            "Image batch shape (8, 512, 512, 1), ['stay', 'stay', 'stay', 'stay', 'stay', 'down', 'stay', 'stay'])\n",
            "Image batch shape (8, 512, 512, 1), ['stay', 'stay', 'stay', 'up', 'down', 'stay', 'stay', 'stay'])\n",
            "Image batch shape (8, 512, 512, 1), ['up', 'stay', 'down', 'stay', 'stay', 'stay', 'stay', 'stay'])\n",
            "Image batch shape (8, 512, 512, 1), ['stay', 'stay', 'down', 'stay', 'stay', 'down', 'up', 'stay'])\n",
            "Image batch shape (8, 512, 512, 1), ['stay', 'stay', 'stay', 'stay', 'stay', 'stay', 'stay', 'down'])\n",
            "Image batch shape (8, 512, 512, 1), ['down', 'stay', 'stay', 'up', 'up', 'up', 'stay', 'stay'])\n",
            "Image batch shape (8, 512, 512, 1), ['stay', 'stay', 'stay', 'down', 'up', 'stay', 'down', 'stay'])\n",
            "Image batch shape (8, 512, 512, 1), ['stay', 'up', 'down', 'stay', 'stay', 'stay', 'stay', 'down'])\n",
            "Image batch shape (8, 512, 512, 1), ['stay', 'stay', 'down', 'stay', 'stay', 'stay', 'stay', 'stay'])\n",
            "Image batch shape (8, 512, 512, 1), ['stay', 'stay', 'stay', 'up', 'up', 'stay', 'down', 'stay'])\n",
            "Image batch shape (8, 512, 512, 1), ['stay', 'stay', 'stay', 'stay', 'stay', 'up', 'up', 'stay'])\n"
          ],
          "name": "stdout"
        }
      ]
    },
    {
      "cell_type": "code",
      "metadata": {
        "colab_type": "code",
        "id": "oYzgji7agVg4",
        "colab": {}
      },
      "source": [
        "def recompress_image(image, label):\n",
        "  height = tf.shape(image)[0]\n",
        "  width = tf.shape(image)[1]\n",
        "  image = tf.cast(image, tf.uint8)\n",
        "  image = tf.image.encode_jpeg(image, optimize_size=True, chroma_downsampling=False)\n",
        "  return image, label, height, width\n",
        "\n",
        "dataset3 = dataset2.map(recompress_image, num_parallel_calls=AUTO)\n",
        "dataset3 = dataset3.batch(shard_size) # sharding: there will be one \"batch\" of images per file "
      ],
      "execution_count": 0,
      "outputs": []
    },
    {
      "cell_type": "markdown",
      "metadata": {
        "colab_type": "text",
        "id": "cDIfPMGCjqLO"
      },
      "source": [
        "## Write dataset to TFRecord files\n"
      ]
    },
    {
      "cell_type": "code",
      "metadata": {
        "id": "1ju4hwa0588B",
        "colab_type": "code",
        "outputId": "54b3a444-bca6-44b8-a0a8-96ca27082f0e",
        "colab": {
          "base_uri": "https://localhost:8080/",
          "height": 34
        }
      },
      "source": [
        "# Three types of data can be stored in TFRecords: bytestrings, integers and floats\n",
        "# They are always stored as lists, a single data element will be a list of size 1\n",
        "\n",
        "def _bytestring_feature(list_of_bytestrings):\n",
        "  return tf.train.Feature(bytes_list=tf.train.BytesList(value=list_of_bytestrings))\n",
        "\n",
        "def _int_feature(list_of_ints): # int64\n",
        "  return tf.train.Feature(int64_list=tf.train.Int64List(value=list_of_ints))\n",
        "\n",
        "def _float_feature(list_of_floats): # float32\n",
        "  return tf.train.Feature(float_list=tf.train.FloatList(value=list_of_floats))\n",
        "  \n",
        "\n",
        "def to_tfrecord(tfrec_filewriter, img_bytes, label, height, width):  \n",
        "  class_num = np.argmax(np.array(CLASSES)==label) # 'roses' => 2 (order defined in CLASSES)\n",
        "  one_hot_class = np.eye(len(CLASSES))[class_num]     # [0, 0, 1, 0, 0] for class #2, roses\n",
        "\n",
        "  feature = {\n",
        "      \"image\": _bytestring_feature([img_bytes]), # one image in the list\n",
        "      \"class\": _int_feature([class_num]),        # one class in the list\n",
        "      \n",
        "      # additional (not very useful) fields to demonstrate TFRecord writing/reading of different types of data\n",
        "      \"label\":         _bytestring_feature([label]),          # fixed length (1) list of strings, the text label\n",
        "      \"size\":          _int_feature([height, width]),         # fixed length (2) list of ints\n",
        "      \"one_hot_class\": _float_feature(one_hot_class.tolist()) # variable length  list of floats, n=len(CLASSES)\n",
        "  }\n",
        "  return tf.train.Example(features=tf.train.Features(feature=feature))\n",
        "\n",
        "print(GCS_OUTPUT)"
      ],
      "execution_count": 0,
      "outputs": [
        {
          "output_type": "stream",
          "text": [
            "gs://robot_learning_12/depth/record/drone\n"
          ],
          "name": "stdout"
        }
      ]
    },
    {
      "cell_type": "code",
      "metadata": {
        "id": "JCt56sOr5n5h",
        "colab_type": "code",
        "outputId": "18ebc0e7-fbe0-40bd-ef56-862ffd39bb85",
        "colab": {
          "base_uri": "https://localhost:8080/",
          "height": 312
        }
      },
      "source": [
        "\n",
        "print(\"Writing TFRecords\")\n",
        "for shard, (image, label, height, width) in enumerate(dataset3):\n",
        "  # batch size used as shard size here\n",
        "  shard_size = image.numpy().shape[0]\n",
        "  # good practice to have the number of records in the filename\n",
        "  filename = GCS_OUTPUT + \"{:02d}-{}.tfrec\".format(shard, shard_size)\n",
        "  \n",
        "  with tf.io.TFRecordWriter(filename) as out_file:\n",
        "    for i in range(shard_size):\n",
        "      example = to_tfrecord(out_file,\n",
        "                            image.numpy()[i], # re-compressed image: already a byte string\n",
        "                            label.numpy()[i],\n",
        "                            height.numpy()[i],\n",
        "                            width.numpy()[i])\n",
        "      out_file.write(example.SerializeToString())\n",
        "    print(\"Wrote file {} containing {} records\".format(filename, shard_size))"
      ],
      "execution_count": 0,
      "outputs": [
        {
          "output_type": "stream",
          "text": [
            "Writing TFRecords\n",
            "Wrote file gs://robot_learning_12/depth/record/drone00-1715.tfrec containing 1715 records\n",
            "Wrote file gs://robot_learning_12/depth/record/drone01-1715.tfrec containing 1715 records\n",
            "Wrote file gs://robot_learning_12/depth/record/drone02-1715.tfrec containing 1715 records\n",
            "Wrote file gs://robot_learning_12/depth/record/drone03-1715.tfrec containing 1715 records\n",
            "Wrote file gs://robot_learning_12/depth/record/drone04-1715.tfrec containing 1715 records\n",
            "Wrote file gs://robot_learning_12/depth/record/drone05-1715.tfrec containing 1715 records\n",
            "Wrote file gs://robot_learning_12/depth/record/drone06-1715.tfrec containing 1715 records\n",
            "Wrote file gs://robot_learning_12/depth/record/drone07-1715.tfrec containing 1715 records\n",
            "Wrote file gs://robot_learning_12/depth/record/drone08-1715.tfrec containing 1715 records\n",
            "Wrote file gs://robot_learning_12/depth/record/drone09-1715.tfrec containing 1715 records\n",
            "Wrote file gs://robot_learning_12/depth/record/drone10-1715.tfrec containing 1715 records\n",
            "Wrote file gs://robot_learning_12/depth/record/drone11-1715.tfrec containing 1715 records\n",
            "Wrote file gs://robot_learning_12/depth/record/drone12-1715.tfrec containing 1715 records\n",
            "Wrote file gs://robot_learning_12/depth/record/drone13-1715.tfrec containing 1715 records\n",
            "Wrote file gs://robot_learning_12/depth/record/drone14-1715.tfrec containing 1715 records\n",
            "Wrote file gs://robot_learning_12/depth/record/drone15-1702.tfrec containing 1702 records\n"
          ],
          "name": "stdout"
        }
      ]
    }
  ]
}